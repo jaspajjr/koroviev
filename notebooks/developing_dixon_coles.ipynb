{
 "cells": [
  {
   "cell_type": "code",
   "execution_count": 21,
   "metadata": {
    "collapsed": true
   },
   "outputs": [],
   "source": [
    "from __future__ import division\n",
    "import pandas as pd\n",
    "import numpy as np \n",
    "import json, os, sys\n",
    "import statsmodels.api as sm\n",
    "from scipy.stats import poisson"
   ]
  },
  {
   "cell_type": "code",
   "execution_count": 42,
   "metadata": {
    "collapsed": true
   },
   "outputs": [],
   "source": [
    "raw_df = pd.read_clipboard()"
   ]
  },
  {
   "cell_type": "code",
   "execution_count": 49,
   "metadata": {
    "collapsed": false
   },
   "outputs": [
    {
     "name": "stdout",
     "output_type": "stream",
     "text": [
      "<class 'pandas.core.frame.DataFrame'>\n",
      "RangeIndex: 760 entries, 0 to 759\n",
      "Data columns (total 6 columns):\n",
      "date                    760 non-null object\n",
      "time                    760 non-null object\n",
      "team                    760 non-null category\n",
      "opponent_team           760 non-null category\n",
      "goals_scored_by_team    760 non-null int64\n",
      "home_flag               760 non-null int64\n",
      "dtypes: category(2), int64(2), object(2)\n",
      "memory usage: 25.6+ KB\n",
      "None\n"
     ]
    },
    {
     "data": {
      "text/html": [
       "<div>\n",
       "<table border=\"1\" class=\"dataframe\">\n",
       "  <thead>\n",
       "    <tr style=\"text-align: right;\">\n",
       "      <th></th>\n",
       "      <th>date</th>\n",
       "      <th>time</th>\n",
       "      <th>team</th>\n",
       "      <th>opponent_team</th>\n",
       "      <th>goals_scored_by_team</th>\n",
       "      <th>home_flag</th>\n",
       "    </tr>\n",
       "  </thead>\n",
       "  <tbody>\n",
       "    <tr>\n",
       "      <th>0</th>\n",
       "      <td>17/5/2016</td>\n",
       "      <td>20:00</td>\n",
       "      <td>Man Utd</td>\n",
       "      <td>Bournemouth</td>\n",
       "      <td>3</td>\n",
       "      <td>0</td>\n",
       "    </tr>\n",
       "    <tr>\n",
       "      <th>1</th>\n",
       "      <td>15/5/2016</td>\n",
       "      <td>15:00</td>\n",
       "      <td>Arsenal</td>\n",
       "      <td>Aston Villa</td>\n",
       "      <td>4</td>\n",
       "      <td>0</td>\n",
       "    </tr>\n",
       "    <tr>\n",
       "      <th>2</th>\n",
       "      <td>16/5/2016</td>\n",
       "      <td>15:00</td>\n",
       "      <td>Chelsea</td>\n",
       "      <td>Leicester</td>\n",
       "      <td>1</td>\n",
       "      <td>0</td>\n",
       "    </tr>\n",
       "    <tr>\n",
       "      <th>3</th>\n",
       "      <td>17/5/2016</td>\n",
       "      <td>15:00</td>\n",
       "      <td>Everton</td>\n",
       "      <td>Norwich</td>\n",
       "      <td>3</td>\n",
       "      <td>0</td>\n",
       "    </tr>\n",
       "    <tr>\n",
       "      <th>4</th>\n",
       "      <td>18/5/2016</td>\n",
       "      <td>15:00</td>\n",
       "      <td>Newcastle</td>\n",
       "      <td>Spurs</td>\n",
       "      <td>5</td>\n",
       "      <td>0</td>\n",
       "    </tr>\n",
       "  </tbody>\n",
       "</table>\n",
       "</div>"
      ],
      "text/plain": [
       "        date   time       team opponent_team  goals_scored_by_team  home_flag\n",
       "0  17/5/2016  20:00    Man Utd   Bournemouth                     3          0\n",
       "1  15/5/2016  15:00    Arsenal   Aston Villa                     4          0\n",
       "2  16/5/2016  15:00    Chelsea     Leicester                     1          0\n",
       "3  17/5/2016  15:00    Everton       Norwich                     3          0\n",
       "4  18/5/2016  15:00  Newcastle         Spurs                     5          0"
      ]
     },
     "execution_count": 49,
     "metadata": {},
     "output_type": "execute_result"
    }
   ],
   "source": [
    "df = raw_df\n",
    "df['team'] = df['team'].astype('category')\n",
    "df['opponent_team'] = df['opponent_team'].astype('category')\n",
    "\n",
    "\n",
    "print df.info()\n",
    "\n",
    "df.head()"
   ]
  },
  {
   "cell_type": "markdown",
   "metadata": {},
   "source": [
    "\n",
    "\n",
    "## $ Pr (Home Goals) \\sim Poisson(\\lambda) $\n",
    "\n",
    "## $ Pr(Away Goals) \\sim Poisson (\\mu) $\n",
    "\n",
    "\n",
    "\n",
    "## $ \\lambda \\sim \\gamma \\tau \\alpha_{i} \\beta_{j} $\n",
    "\n",
    "## $ \\mu \\sim \\gamma \\alpha_{j} \\beta_{i} $"
   ]
  },
  {
   "cell_type": "markdown",
   "metadata": {},
   "source": [
    "##### We can initialize $\\gamma $ as half the mean of total goals divided by 2. (To give avg number of goals per team, as each game contains 2 teams"
   ]
  },
  {
   "cell_type": "markdown",
   "metadata": {},
   "source": [
    "##### We can estimate the params for $ \\alpha$ and $ \\beta $ using GLM from statsmodels"
   ]
  },
  {
   "cell_type": "code",
   "execution_count": 90,
   "metadata": {
    "collapsed": true
   },
   "outputs": [],
   "source": [
    "def get_expected_goals(home_team, away_team, coef_df, model):\n",
    "    home_attack_score = np.exp(coef_df.loc['team[T.{0}]'.format(home_team)][0])\n",
    "    home_defence_score = np.exp(coef_df.loc['team[T.{0}]'.format(home_team)][1])\n",
    "    \n",
    "    away_attack_score = np.exp(coef_df.loc['team[T.{0}]'.format(away_team)][0])\n",
    "    away_defence_score = np.exp(coef_df.loc['team[T.{0}]'.format(home_team)][1])\n",
    "    \n",
    "    attack_outcome = model.predict()\n",
    "    \n",
    "    poisson()"
   ]
  },
  {
   "cell_type": "code",
   "execution_count": 251,
   "metadata": {
    "collapsed": false
   },
   "outputs": [],
   "source": [
    "m = smf.glm(formula='goals_scored_by_team ~ home_flag + team + opponent_team - 1',\n",
    "            data=df, family=sm.families.Poisson())\n",
    "res = m.fit()\n",
    "\n",
    "res.summary()\n",
    "\n",
    "coeff_table = res.summary().tables[1]\n",
    "coeff_df = pd.read_html(coeff_table.as_html(), header=0)[0]\n",
    "\n",
    "col_names = ['param', 'coef', 'std_err', 'z', 'P', '95%']\n",
    "coeff_df.columns = col_names\n",
    "\n",
    "coeff_df.index = coeff_df['param']\n",
    "del coeff_df['param']"
   ]
  },
  {
   "cell_type": "markdown",
   "metadata": {},
   "source": [
    "### We have now calculated $ \\alpha $ and $ \\beta $ for every team.\n",
    "\n",
    "#### The next step now is to move to calculate $ \\rho $. This will then leave us with only $ \\tau $ to calculate, and then we can move onto $ \\mu $ and $ \\lambda $, then we'll be ablt to develop a model. "
   ]
  },
  {
   "cell_type": "markdown",
   "metadata": {},
   "source": [
    "### If we assume that $ \\rho $ can be estimated as 0.9."
   ]
  },
  {
   "cell_type": "code",
   "execution_count": 214,
   "metadata": {
    "collapsed": true
   },
   "outputs": [],
   "source": [
    "rho = 0.9"
   ]
  },
  {
   "cell_type": "markdown",
   "metadata": {},
   "source": [
    "### Let's also use the (unfounded) assumption that $ \\gamma $ can be modelled as the average of goals per game."
   ]
  },
  {
   "cell_type": "code",
   "execution_count": 209,
   "metadata": {
    "collapsed": true
   },
   "outputs": [],
   "source": [
    "gamma = np.mean(df['goals_scored_by_team'] / 2)"
   ]
  },
  {
   "cell_type": "markdown",
   "metadata": {},
   "source": [
    "## Let's start with $ i = $ Arsenal\n",
    "\n",
    "## $ j = $ Aston Villa"
   ]
  },
  {
   "cell_type": "markdown",
   "metadata": {},
   "source": [
    "# $ \\lambda_{ij} \\sim \\rho * \\gamma * \\alpha_{i} * \\beta_{j}$\n",
    "# $ \\mu_{ij} \\sim \\gamma * \\alpha_{j} * \\beta_{i} $"
   ]
  },
  {
   "cell_type": "code",
   "execution_count": 269,
   "metadata": {
    "collapsed": false
   },
   "outputs": [],
   "source": [
    "home_team = 'West Ham'\n",
    "away_team = 'Aston Villa'\n",
    "\n",
    "\n",
    "alpha_i = coeff_df.loc['team[{0}]'.format(home_team)]['coef']\n",
    "beta_i = coeff_df.loc['opponent_team[T.{0}]'.format(home_team)]['coef']\n",
    "alpha_j = coeff_df.loc['team[{0}]'.format(away_team)]['coef']\n",
    "beta_j = coeff_df.loc['opponent_team[T.{0}]'.format(away_team)]['coef']\n",
    "\n",
    "lambda_var = rho * gamma * np.exp(alpha_i) * np.exp(beta_j)\n",
    "mu_var = gamma * np.exp(alpha_j) * np.exp(beta_i)"
   ]
  },
  {
   "cell_type": "code",
   "execution_count": 273,
   "metadata": {
    "collapsed": false
   },
   "outputs": [
    {
     "name": "stdout",
     "output_type": "stream",
     "text": [
      "0\n",
      "1000\n",
      "2000\n",
      "3000\n",
      "4000\n",
      "5000\n",
      "6000\n",
      "7000\n",
      "8000\n",
      "9000\n"
     ]
    }
   ],
   "source": [
    "repetitions = 10000\n",
    "result_list = []\n",
    "for x in xrange(repetitions):\n",
    "    if x % 1000 == 0:\n",
    "        print x\n",
    "    result = {}\n",
    "    home_goals = poisson(lambda_var).rvs(1)\n",
    "    away_goals = poisson(mu_var).rvs(1)\n",
    "    result['home'] = home_goals\n",
    "    result['away'] = away_goals\n",
    "    result_list.append(result)"
   ]
  },
  {
   "cell_type": "code",
   "execution_count": 278,
   "metadata": {
    "collapsed": true
   },
   "outputs": [],
   "source": [
    "def unpack_results(results_dict):\n",
    "    if results_dict['home'] > results_dict['away']:\n",
    "        return 'home'\n",
    "    \n",
    "    if results_dict['away'] > results_dict['home']:\n",
    "        return 'away'\n",
    "    \n",
    "    if results_dict['home'] == results_dict['away']:\n",
    "        return 'draw'\n",
    "    "
   ]
  },
  {
   "cell_type": "code",
   "execution_count": 279,
   "metadata": {
    "collapsed": false
   },
   "outputs": [],
   "source": [
    "outcome_list = []\n",
    "for game in result_list:\n",
    "    outcome_list.append(unpack_results(game))"
   ]
  },
  {
   "cell_type": "code",
   "execution_count": 282,
   "metadata": {
    "collapsed": false
   },
   "outputs": [],
   "source": [
    "a = np.array(outcome_list)"
   ]
  },
  {
   "cell_type": "code",
   "execution_count": 285,
   "metadata": {
    "collapsed": false
   },
   "outputs": [],
   "source": [
    "b = pd.DataFrame({'outcome': outcome_list})\n",
    "b['outcome'] = b['outcome'].astype('category')"
   ]
  },
  {
   "cell_type": "code",
   "execution_count": 291,
   "metadata": {
    "collapsed": false
   },
   "outputs": [
    {
     "data": {
      "text/html": [
       "<div>\n",
       "<table border=\"1\" class=\"dataframe\">\n",
       "  <thead>\n",
       "    <tr style=\"text-align: right;\">\n",
       "      <th></th>\n",
       "      <th>date</th>\n",
       "      <th>time</th>\n",
       "      <th>team</th>\n",
       "      <th>opponent_team</th>\n",
       "      <th>goals_scored_by_team</th>\n",
       "      <th>home_flag</th>\n",
       "    </tr>\n",
       "  </thead>\n",
       "  <tbody>\n",
       "    <tr>\n",
       "      <th>189</th>\n",
       "      <td>2/1/2016</td>\n",
       "      <td>12:45</td>\n",
       "      <td>West Ham</td>\n",
       "      <td>Liverpool</td>\n",
       "      <td>2</td>\n",
       "      <td>0</td>\n",
       "    </tr>\n",
       "    <tr>\n",
       "      <th>569</th>\n",
       "      <td>2/1/2016</td>\n",
       "      <td>12:45</td>\n",
       "      <td>West Ham</td>\n",
       "      <td>Liverpool</td>\n",
       "      <td>0</td>\n",
       "      <td>1</td>\n",
       "    </tr>\n",
       "  </tbody>\n",
       "</table>\n",
       "</div>"
      ],
      "text/plain": [
       "         date   time      team opponent_team  goals_scored_by_team  home_flag\n",
       "189  2/1/2016  12:45  West Ham     Liverpool                     2          0\n",
       "569  2/1/2016  12:45  West Ham     Liverpool                     0          1"
      ]
     },
     "execution_count": 291,
     "metadata": {},
     "output_type": "execute_result"
    }
   ],
   "source": [
    "df[(df['team'] == 'West Ham') & (df['opponent_team'] == 'Liverpool')]"
   ]
  }
 ],
 "metadata": {
  "kernelspec": {
   "display_name": "Python 2",
   "language": "python",
   "name": "python2"
  },
  "language_info": {
   "codemirror_mode": {
    "name": "ipython",
    "version": 2
   },
   "file_extension": ".py",
   "mimetype": "text/x-python",
   "name": "python",
   "nbconvert_exporter": "python",
   "pygments_lexer": "ipython2",
   "version": "2.7.11"
  }
 },
 "nbformat": 4,
 "nbformat_minor": 0
}
