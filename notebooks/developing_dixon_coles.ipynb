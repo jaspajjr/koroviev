{
 "cells": [
  {
   "cell_type": "code",
   "execution_count": 21,
   "metadata": {
    "collapsed": true
   },
   "outputs": [],
   "source": [
    "from __future__ import division\n",
    "import pandas as pd\n",
    "import numpy as np \n",
    "import json, os, sys\n",
    "import statsmodels.api as sm\n",
    "from scipy.stats import poisson"
   ]
  },
  {
   "cell_type": "code",
   "execution_count": 42,
   "metadata": {
    "collapsed": true
   },
   "outputs": [],
   "source": [
    "raw_df = pd.read_clipboard()"
   ]
  },
  {
   "cell_type": "code",
   "execution_count": 49,
   "metadata": {
    "collapsed": false
   },
   "outputs": [
    {
     "name": "stdout",
     "output_type": "stream",
     "text": [
      "<class 'pandas.core.frame.DataFrame'>\n",
      "RangeIndex: 760 entries, 0 to 759\n",
      "Data columns (total 6 columns):\n",
      "date                    760 non-null object\n",
      "time                    760 non-null object\n",
      "team                    760 non-null category\n",
      "opponent_team           760 non-null category\n",
      "goals_scored_by_team    760 non-null int64\n",
      "home_flag               760 non-null int64\n",
      "dtypes: category(2), int64(2), object(2)\n",
      "memory usage: 25.6+ KB\n",
      "None\n"
     ]
    },
    {
     "data": {
      "text/html": [
       "<div>\n",
       "<table border=\"1\" class=\"dataframe\">\n",
       "  <thead>\n",
       "    <tr style=\"text-align: right;\">\n",
       "      <th></th>\n",
       "      <th>date</th>\n",
       "      <th>time</th>\n",
       "      <th>team</th>\n",
       "      <th>opponent_team</th>\n",
       "      <th>goals_scored_by_team</th>\n",
       "      <th>home_flag</th>\n",
       "    </tr>\n",
       "  </thead>\n",
       "  <tbody>\n",
       "    <tr>\n",
       "      <th>0</th>\n",
       "      <td>17/5/2016</td>\n",
       "      <td>20:00</td>\n",
       "      <td>Man Utd</td>\n",
       "      <td>Bournemouth</td>\n",
       "      <td>3</td>\n",
       "      <td>0</td>\n",
       "    </tr>\n",
       "    <tr>\n",
       "      <th>1</th>\n",
       "      <td>15/5/2016</td>\n",
       "      <td>15:00</td>\n",
       "      <td>Arsenal</td>\n",
       "      <td>Aston Villa</td>\n",
       "      <td>4</td>\n",
       "      <td>0</td>\n",
       "    </tr>\n",
       "    <tr>\n",
       "      <th>2</th>\n",
       "      <td>16/5/2016</td>\n",
       "      <td>15:00</td>\n",
       "      <td>Chelsea</td>\n",
       "      <td>Leicester</td>\n",
       "      <td>1</td>\n",
       "      <td>0</td>\n",
       "    </tr>\n",
       "    <tr>\n",
       "      <th>3</th>\n",
       "      <td>17/5/2016</td>\n",
       "      <td>15:00</td>\n",
       "      <td>Everton</td>\n",
       "      <td>Norwich</td>\n",
       "      <td>3</td>\n",
       "      <td>0</td>\n",
       "    </tr>\n",
       "    <tr>\n",
       "      <th>4</th>\n",
       "      <td>18/5/2016</td>\n",
       "      <td>15:00</td>\n",
       "      <td>Newcastle</td>\n",
       "      <td>Spurs</td>\n",
       "      <td>5</td>\n",
       "      <td>0</td>\n",
       "    </tr>\n",
       "  </tbody>\n",
       "</table>\n",
       "</div>"
      ],
      "text/plain": [
       "        date   time       team opponent_team  goals_scored_by_team  home_flag\n",
       "0  17/5/2016  20:00    Man Utd   Bournemouth                     3          0\n",
       "1  15/5/2016  15:00    Arsenal   Aston Villa                     4          0\n",
       "2  16/5/2016  15:00    Chelsea     Leicester                     1          0\n",
       "3  17/5/2016  15:00    Everton       Norwich                     3          0\n",
       "4  18/5/2016  15:00  Newcastle         Spurs                     5          0"
      ]
     },
     "execution_count": 49,
     "metadata": {},
     "output_type": "execute_result"
    }
   ],
   "source": [
    "df = raw_df\n",
    "df['team'] = df['team'].astype('category')\n",
    "df['opponent_team'] = df['opponent_team'].astype('category')\n",
    "\n",
    "\n",
    "print df.info()\n",
    "\n",
    "df.head()"
   ]
  },
  {
   "cell_type": "markdown",
   "metadata": {},
   "source": [
    "\n",
    "\n",
    "## $ Pr (Home Goals) \\sim Poisson(\\lambda) $\n",
    "\n",
    "## $ Pr(Away Goals) \\sim Poisson (\\mu) $\n",
    "\n",
    "\n",
    "\n",
    "## $ \\lambda \\sim \\gamma \\tau \\alpha_{i} \\beta_{j} $\n",
    "\n",
    "## $ \\mu \\sim \\gamma \\alpha_{j} \\beta_{i} $"
   ]
  },
  {
   "cell_type": "markdown",
   "metadata": {},
   "source": [
    "##### We can initialize $\\gamma $ as half the mean of total goals divided by 2. (To give avg number of goals per team, as each game contains 2 teams"
   ]
  },
  {
   "cell_type": "code",
   "execution_count": 20,
   "metadata": {
    "collapsed": false
   },
   "outputs": [],
   "source": [
    "gamma = np.mean(df['home_score'] + df['away_score']) / 2"
   ]
  },
  {
   "cell_type": "markdown",
   "metadata": {},
   "source": [
    "##### We can estimate the params for $ \\alpha$ and $ \\beta $ using GLM from statsmodels"
   ]
  },
  {
   "cell_type": "code",
   "execution_count": 206,
   "metadata": {
    "collapsed": false
   },
   "outputs": [],
   "source": [
    "m = smf.glm(formula='goals_scored_by_team ~ home_flag + team + opponent_team', data=df, family=sm.families.Poisson())\n",
    "res = m.fit()\n",
    "\n",
    "res.summary()\n",
    "\n",
    "coeff_table = res.summary().tables[1]\n",
    "coeff_df = pd.read_html(coeff_table.as_html(), header=0)[0]"
   ]
  },
  {
   "cell_type": "code",
   "execution_count": 90,
   "metadata": {
    "collapsed": true
   },
   "outputs": [],
   "source": [
    "def get_expected_goals(home_team, away_team, coef_df, model):\n",
    "    home_attack_score = np.exp(coef_df.loc['team[T.{0}]'.format(home_team)][0])\n",
    "    home_defence_score = np.exp(coef_df.loc['team[T.{0}]'.format(home_team)][1])\n",
    "    \n",
    "    away_attack_score = np.exp(coef_df.loc['team[T.{0}]'.format(away_team)][0])\n",
    "    away_defence_score = np.exp(coef_df.loc['team[T.{0}]'.format(home_team)][1])\n",
    "    \n",
    "    attack_outcome = model.predict()\n",
    "    \n",
    "    poisson()"
   ]
  },
  {
   "cell_type": "code",
   "execution_count": 155,
   "metadata": {
    "collapsed": false
   },
   "outputs": [
    {
     "data": {
      "text/html": [
       "<div>\n",
       "<table border=\"1\" class=\"dataframe\">\n",
       "  <thead>\n",
       "    <tr style=\"text-align: right;\">\n",
       "      <th></th>\n",
       "      <th>Intercept</th>\n",
       "      <th>team[T.Aston Villa]</th>\n",
       "      <th>team[T.Bournemouth]</th>\n",
       "      <th>team[T.Chelsea]</th>\n",
       "      <th>team[T.Crystal Palace]</th>\n",
       "      <th>team[T.Everton]</th>\n",
       "      <th>team[T.Leicester]</th>\n",
       "      <th>team[T.Liverpool]</th>\n",
       "      <th>team[T.Man City]</th>\n",
       "      <th>team[T.Man Utd]</th>\n",
       "      <th>...</th>\n",
       "      <th>opponent_team[T.Norwich]</th>\n",
       "      <th>opponent_team[T.Southampton]</th>\n",
       "      <th>opponent_team[T.Spurs]</th>\n",
       "      <th>opponent_team[T.Stoke]</th>\n",
       "      <th>opponent_team[T.Sunderland]</th>\n",
       "      <th>opponent_team[T.Swansea]</th>\n",
       "      <th>opponent_team[T.Watford]</th>\n",
       "      <th>opponent_team[T.West Brom]</th>\n",
       "      <th>opponent_team[T.West Ham]</th>\n",
       "      <th>home_flag</th>\n",
       "    </tr>\n",
       "  </thead>\n",
       "  <tbody>\n",
       "    <tr>\n",
       "      <th>Intercept</th>\n",
       "      <td>0.042629</td>\n",
       "      <td>-0.024894</td>\n",
       "      <td>-0.024896</td>\n",
       "      <td>-0.024891</td>\n",
       "      <td>-0.024886</td>\n",
       "      <td>-0.024890</td>\n",
       "      <td>-0.024891</td>\n",
       "      <td>-0.024899</td>\n",
       "      <td>-0.024885</td>\n",
       "      <td>-0.024886</td>\n",
       "      <td>...</td>\n",
       "      <td>-0.018035</td>\n",
       "      <td>-0.018039</td>\n",
       "      <td>-0.018029</td>\n",
       "      <td>-0.018024</td>\n",
       "      <td>-0.018022</td>\n",
       "      <td>-0.018018</td>\n",
       "      <td>-0.018016</td>\n",
       "      <td>-0.018022</td>\n",
       "      <td>-0.018040</td>\n",
       "      <td>-1.763668e-03</td>\n",
       "    </tr>\n",
       "    <tr>\n",
       "      <th>team[T.Aston Villa]</th>\n",
       "      <td>-0.024894</td>\n",
       "      <td>0.044337</td>\n",
       "      <td>0.023872</td>\n",
       "      <td>0.023872</td>\n",
       "      <td>0.023872</td>\n",
       "      <td>0.023872</td>\n",
       "      <td>0.023872</td>\n",
       "      <td>0.023872</td>\n",
       "      <td>0.023872</td>\n",
       "      <td>0.023872</td>\n",
       "      <td>...</td>\n",
       "      <td>0.001027</td>\n",
       "      <td>0.001027</td>\n",
       "      <td>0.001027</td>\n",
       "      <td>0.001027</td>\n",
       "      <td>0.001027</td>\n",
       "      <td>0.001027</td>\n",
       "      <td>0.001027</td>\n",
       "      <td>0.001027</td>\n",
       "      <td>0.001027</td>\n",
       "      <td>1.991967e-16</td>\n",
       "    </tr>\n",
       "    <tr>\n",
       "      <th>team[T.Bournemouth]</th>\n",
       "      <td>-0.024896</td>\n",
       "      <td>0.023872</td>\n",
       "      <td>0.041475</td>\n",
       "      <td>0.023872</td>\n",
       "      <td>0.023872</td>\n",
       "      <td>0.023872</td>\n",
       "      <td>0.023872</td>\n",
       "      <td>0.023872</td>\n",
       "      <td>0.023872</td>\n",
       "      <td>0.023872</td>\n",
       "      <td>...</td>\n",
       "      <td>0.001027</td>\n",
       "      <td>0.001027</td>\n",
       "      <td>0.001027</td>\n",
       "      <td>0.001027</td>\n",
       "      <td>0.001027</td>\n",
       "      <td>0.001027</td>\n",
       "      <td>0.001027</td>\n",
       "      <td>0.001027</td>\n",
       "      <td>0.001027</td>\n",
       "      <td>2.026272e-16</td>\n",
       "    </tr>\n",
       "    <tr>\n",
       "      <th>team[T.Chelsea]</th>\n",
       "      <td>-0.024891</td>\n",
       "      <td>0.023872</td>\n",
       "      <td>0.023872</td>\n",
       "      <td>0.040054</td>\n",
       "      <td>0.023871</td>\n",
       "      <td>0.023872</td>\n",
       "      <td>0.023872</td>\n",
       "      <td>0.023872</td>\n",
       "      <td>0.023871</td>\n",
       "      <td>0.023871</td>\n",
       "      <td>...</td>\n",
       "      <td>0.001027</td>\n",
       "      <td>0.001027</td>\n",
       "      <td>0.001027</td>\n",
       "      <td>0.001027</td>\n",
       "      <td>0.001027</td>\n",
       "      <td>0.001027</td>\n",
       "      <td>0.001027</td>\n",
       "      <td>0.001027</td>\n",
       "      <td>0.001027</td>\n",
       "      <td>1.980837e-16</td>\n",
       "    </tr>\n",
       "    <tr>\n",
       "      <th>team[T.Crystal Palace]</th>\n",
       "      <td>-0.024886</td>\n",
       "      <td>0.023872</td>\n",
       "      <td>0.023872</td>\n",
       "      <td>0.023871</td>\n",
       "      <td>0.047730</td>\n",
       "      <td>0.023871</td>\n",
       "      <td>0.023871</td>\n",
       "      <td>0.023872</td>\n",
       "      <td>0.023871</td>\n",
       "      <td>0.023871</td>\n",
       "      <td>...</td>\n",
       "      <td>0.001027</td>\n",
       "      <td>0.001027</td>\n",
       "      <td>0.001027</td>\n",
       "      <td>0.001027</td>\n",
       "      <td>0.001027</td>\n",
       "      <td>0.001027</td>\n",
       "      <td>0.001027</td>\n",
       "      <td>0.001027</td>\n",
       "      <td>0.001027</td>\n",
       "      <td>2.015193e-16</td>\n",
       "    </tr>\n",
       "  </tbody>\n",
       "</table>\n",
       "<p>5 rows × 40 columns</p>\n",
       "</div>"
      ],
      "text/plain": [
       "                        Intercept  team[T.Aston Villa]  team[T.Bournemouth]  \\\n",
       "Intercept                0.042629            -0.024894            -0.024896   \n",
       "team[T.Aston Villa]     -0.024894             0.044337             0.023872   \n",
       "team[T.Bournemouth]     -0.024896             0.023872             0.041475   \n",
       "team[T.Chelsea]         -0.024891             0.023872             0.023872   \n",
       "team[T.Crystal Palace]  -0.024886             0.023872             0.023872   \n",
       "\n",
       "                        team[T.Chelsea]  team[T.Crystal Palace]  \\\n",
       "Intercept                     -0.024891               -0.024886   \n",
       "team[T.Aston Villa]            0.023872                0.023872   \n",
       "team[T.Bournemouth]            0.023872                0.023872   \n",
       "team[T.Chelsea]                0.040054                0.023871   \n",
       "team[T.Crystal Palace]         0.023871                0.047730   \n",
       "\n",
       "                        team[T.Everton]  team[T.Leicester]  team[T.Liverpool]  \\\n",
       "Intercept                     -0.024890          -0.024891          -0.024899   \n",
       "team[T.Aston Villa]            0.023872           0.023872           0.023872   \n",
       "team[T.Bournemouth]            0.023872           0.023872           0.023872   \n",
       "team[T.Chelsea]                0.023872           0.023872           0.023872   \n",
       "team[T.Crystal Palace]         0.023871           0.023871           0.023872   \n",
       "\n",
       "                        team[T.Man City]  team[T.Man Utd]      ...       \\\n",
       "Intercept                      -0.024885        -0.024886      ...        \n",
       "team[T.Aston Villa]             0.023872         0.023872      ...        \n",
       "team[T.Bournemouth]             0.023872         0.023872      ...        \n",
       "team[T.Chelsea]                 0.023871         0.023871      ...        \n",
       "team[T.Crystal Palace]          0.023871         0.023871      ...        \n",
       "\n",
       "                        opponent_team[T.Norwich]  \\\n",
       "Intercept                              -0.018035   \n",
       "team[T.Aston Villa]                     0.001027   \n",
       "team[T.Bournemouth]                     0.001027   \n",
       "team[T.Chelsea]                         0.001027   \n",
       "team[T.Crystal Palace]                  0.001027   \n",
       "\n",
       "                        opponent_team[T.Southampton]  opponent_team[T.Spurs]  \\\n",
       "Intercept                                  -0.018039               -0.018029   \n",
       "team[T.Aston Villa]                         0.001027                0.001027   \n",
       "team[T.Bournemouth]                         0.001027                0.001027   \n",
       "team[T.Chelsea]                             0.001027                0.001027   \n",
       "team[T.Crystal Palace]                      0.001027                0.001027   \n",
       "\n",
       "                        opponent_team[T.Stoke]  opponent_team[T.Sunderland]  \\\n",
       "Intercept                            -0.018024                    -0.018022   \n",
       "team[T.Aston Villa]                   0.001027                     0.001027   \n",
       "team[T.Bournemouth]                   0.001027                     0.001027   \n",
       "team[T.Chelsea]                       0.001027                     0.001027   \n",
       "team[T.Crystal Palace]                0.001027                     0.001027   \n",
       "\n",
       "                        opponent_team[T.Swansea]  opponent_team[T.Watford]  \\\n",
       "Intercept                              -0.018018                 -0.018016   \n",
       "team[T.Aston Villa]                     0.001027                  0.001027   \n",
       "team[T.Bournemouth]                     0.001027                  0.001027   \n",
       "team[T.Chelsea]                         0.001027                  0.001027   \n",
       "team[T.Crystal Palace]                  0.001027                  0.001027   \n",
       "\n",
       "                        opponent_team[T.West Brom]  opponent_team[T.West Ham]  \\\n",
       "Intercept                                -0.018022                  -0.018040   \n",
       "team[T.Aston Villa]                       0.001027                   0.001027   \n",
       "team[T.Bournemouth]                       0.001027                   0.001027   \n",
       "team[T.Chelsea]                           0.001027                   0.001027   \n",
       "team[T.Crystal Palace]                    0.001027                   0.001027   \n",
       "\n",
       "                           home_flag  \n",
       "Intercept              -1.763668e-03  \n",
       "team[T.Aston Villa]     1.991967e-16  \n",
       "team[T.Bournemouth]     2.026272e-16  \n",
       "team[T.Chelsea]         1.980837e-16  \n",
       "team[T.Crystal Palace]  2.015193e-16  \n",
       "\n",
       "[5 rows x 40 columns]"
      ]
     },
     "execution_count": 155,
     "metadata": {},
     "output_type": "execute_result"
    }
   ],
   "source": [
    "res.cov_params().head()"
   ]
  },
  {
   "cell_type": "code",
   "execution_count": 163,
   "metadata": {
    "collapsed": false
   },
   "outputs": [
    {
     "data": {
      "text/html": [
       "<div>\n",
       "<table border=\"1\" class=\"dataframe\">\n",
       "  <thead>\n",
       "    <tr style=\"text-align: right;\">\n",
       "      <th></th>\n",
       "      <th>date</th>\n",
       "      <th>time</th>\n",
       "      <th>team</th>\n",
       "      <th>opponent_team</th>\n",
       "      <th>goals_scored_by_team</th>\n",
       "      <th>home_flag</th>\n",
       "    </tr>\n",
       "  </thead>\n",
       "  <tbody>\n",
       "    <tr>\n",
       "      <th>245</th>\n",
       "      <td>28/11/2016</td>\n",
       "      <td>15:00</td>\n",
       "      <td>Aston Villa</td>\n",
       "      <td>Watford</td>\n",
       "      <td>2</td>\n",
       "      <td>0</td>\n",
       "    </tr>\n",
       "    <tr>\n",
       "      <th>625</th>\n",
       "      <td>28/11/2016</td>\n",
       "      <td>15:00</td>\n",
       "      <td>Aston Villa</td>\n",
       "      <td>Watford</td>\n",
       "      <td>3</td>\n",
       "      <td>1</td>\n",
       "    </tr>\n",
       "  </tbody>\n",
       "</table>\n",
       "</div>"
      ],
      "text/plain": [
       "           date   time         team opponent_team  goals_scored_by_team  \\\n",
       "245  28/11/2016  15:00  Aston Villa       Watford                     2   \n",
       "625  28/11/2016  15:00  Aston Villa       Watford                     3   \n",
       "\n",
       "     home_flag  \n",
       "245          0  \n",
       "625          1  "
      ]
     },
     "execution_count": 163,
     "metadata": {},
     "output_type": "execute_result"
    }
   ],
   "source": [
    "df[(df['team'] == 'Aston Villa') & (df['opponent_team'] == 'Watford')]"
   ]
  },
  {
   "cell_type": "markdown",
   "metadata": {},
   "source": [
    "### We have now calculated $ \\alpha $ and $ \\beta $ for every team.\n",
    "\n",
    "#### The next step now is to move to calculate $ \\rho $. This will then leave us with only $ \\tau $ to calculate, and then we can move onto $ \\mu $ and $ \\lambda $, then we'll be ablt to develop a model. "
   ]
  },
  {
   "cell_type": "markdown",
   "metadata": {},
   "source": [
    "If we assume that $\\rho $"
   ]
  },
  {
   "cell_type": "code",
   "execution_count": 205,
   "metadata": {
    "collapsed": false
   },
   "outputs": [
    {
     "data": {
      "text/plain": [
       "array([1, 2, 2, 2, 5, 1, 1, 1, 3, 3])"
      ]
     },
     "execution_count": 205,
     "metadata": {},
     "output_type": "execute_result"
    }
   ],
   "source": [
    "poisson(np.exp(m.predict(-0.263269, 0.701311))).rvs(10)"
   ]
  },
  {
   "cell_type": "code",
   "execution_count": null,
   "metadata": {
    "collapsed": true
   },
   "outputs": [],
   "source": [
    "poisson(np.exp(m.predict(0.701311)))"
   ]
  }
 ],
 "metadata": {
  "kernelspec": {
   "display_name": "Python 2",
   "language": "python",
   "name": "python2"
  },
  "language_info": {
   "codemirror_mode": {
    "name": "ipython",
    "version": 2
   },
   "file_extension": ".py",
   "mimetype": "text/x-python",
   "name": "python",
   "nbconvert_exporter": "python",
   "pygments_lexer": "ipython2",
   "version": "2.7.11"
  }
 },
 "nbformat": 4,
 "nbformat_minor": 0
}
