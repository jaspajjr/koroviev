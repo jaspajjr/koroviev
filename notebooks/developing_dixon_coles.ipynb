{
 "cells": [
  {
   "cell_type": "code",
   "execution_count": 21,
   "metadata": {
    "collapsed": true
   },
   "outputs": [],
   "source": [
    "from __future__ import division\n",
    "import pandas as pd\n",
    "import numpy as np \n",
    "import json, os, sys\n",
    "import statsmodels.api as sm\n",
    "from scipy.stats import poisson"
   ]
  },
  {
   "cell_type": "code",
   "execution_count": 42,
   "metadata": {
    "collapsed": true
   },
   "outputs": [],
   "source": [
    "raw_df = pd.read_clipboard()"
   ]
  },
  {
   "cell_type": "code",
   "execution_count": 49,
   "metadata": {
    "collapsed": false
   },
   "outputs": [
    {
     "name": "stdout",
     "output_type": "stream",
     "text": [
      "<class 'pandas.core.frame.DataFrame'>\n",
      "RangeIndex: 760 entries, 0 to 759\n",
      "Data columns (total 6 columns):\n",
      "date                    760 non-null object\n",
      "time                    760 non-null object\n",
      "team                    760 non-null category\n",
      "opponent_team           760 non-null category\n",
      "goals_scored_by_team    760 non-null int64\n",
      "home_flag               760 non-null int64\n",
      "dtypes: category(2), int64(2), object(2)\n",
      "memory usage: 25.6+ KB\n",
      "None\n"
     ]
    },
    {
     "data": {
      "text/html": [
       "<div>\n",
       "<table border=\"1\" class=\"dataframe\">\n",
       "  <thead>\n",
       "    <tr style=\"text-align: right;\">\n",
       "      <th></th>\n",
       "      <th>date</th>\n",
       "      <th>time</th>\n",
       "      <th>team</th>\n",
       "      <th>opponent_team</th>\n",
       "      <th>goals_scored_by_team</th>\n",
       "      <th>home_flag</th>\n",
       "    </tr>\n",
       "  </thead>\n",
       "  <tbody>\n",
       "    <tr>\n",
       "      <th>0</th>\n",
       "      <td>17/5/2016</td>\n",
       "      <td>20:00</td>\n",
       "      <td>Man Utd</td>\n",
       "      <td>Bournemouth</td>\n",
       "      <td>3</td>\n",
       "      <td>0</td>\n",
       "    </tr>\n",
       "    <tr>\n",
       "      <th>1</th>\n",
       "      <td>15/5/2016</td>\n",
       "      <td>15:00</td>\n",
       "      <td>Arsenal</td>\n",
       "      <td>Aston Villa</td>\n",
       "      <td>4</td>\n",
       "      <td>0</td>\n",
       "    </tr>\n",
       "    <tr>\n",
       "      <th>2</th>\n",
       "      <td>16/5/2016</td>\n",
       "      <td>15:00</td>\n",
       "      <td>Chelsea</td>\n",
       "      <td>Leicester</td>\n",
       "      <td>1</td>\n",
       "      <td>0</td>\n",
       "    </tr>\n",
       "    <tr>\n",
       "      <th>3</th>\n",
       "      <td>17/5/2016</td>\n",
       "      <td>15:00</td>\n",
       "      <td>Everton</td>\n",
       "      <td>Norwich</td>\n",
       "      <td>3</td>\n",
       "      <td>0</td>\n",
       "    </tr>\n",
       "    <tr>\n",
       "      <th>4</th>\n",
       "      <td>18/5/2016</td>\n",
       "      <td>15:00</td>\n",
       "      <td>Newcastle</td>\n",
       "      <td>Spurs</td>\n",
       "      <td>5</td>\n",
       "      <td>0</td>\n",
       "    </tr>\n",
       "  </tbody>\n",
       "</table>\n",
       "</div>"
      ],
      "text/plain": [
       "        date   time       team opponent_team  goals_scored_by_team  home_flag\n",
       "0  17/5/2016  20:00    Man Utd   Bournemouth                     3          0\n",
       "1  15/5/2016  15:00    Arsenal   Aston Villa                     4          0\n",
       "2  16/5/2016  15:00    Chelsea     Leicester                     1          0\n",
       "3  17/5/2016  15:00    Everton       Norwich                     3          0\n",
       "4  18/5/2016  15:00  Newcastle         Spurs                     5          0"
      ]
     },
     "execution_count": 49,
     "metadata": {},
     "output_type": "execute_result"
    }
   ],
   "source": [
    "df = raw_df\n",
    "df['team'] = df['team'].astype('category')\n",
    "df['opponent_team'] = df['opponent_team'].astype('category')\n",
    "\n",
    "\n",
    "print df.info()\n",
    "\n",
    "df.head()"
   ]
  },
  {
   "cell_type": "markdown",
   "metadata": {},
   "source": [
    "\n",
    "\n",
    "## $ Pr (Home Goals) \\sim Poisson(\\lambda) $\n",
    "\n",
    "## $ Pr(Away Goals) \\sim Poisson (\\mu) $\n",
    "\n",
    "\n",
    "\n",
    "## $ \\lambda \\sim \\gamma \\tau \\alpha_{i} \\beta_{j} $\n",
    "\n",
    "## $ \\mu \\sim \\gamma \\alpha_{j} \\beta_{i} $"
   ]
  },
  {
   "cell_type": "markdown",
   "metadata": {},
   "source": [
    "##### We can initialize $\\gamma $ as half the mean of total goals divided by 2. (To give avg number of goals per team, as each game contains 2 teams"
   ]
  },
  {
   "cell_type": "code",
   "execution_count": 20,
   "metadata": {
    "collapsed": false
   },
   "outputs": [],
   "source": [
    "gamma = np.mean(df['home_score'] + df['away_score']) / 2"
   ]
  },
  {
   "cell_type": "markdown",
   "metadata": {},
   "source": [
    "##### We can estimate the params for $ \\alpha$ and $ \\beta $ using GLM from statsmodels"
   ]
  },
  {
   "cell_type": "code",
   "execution_count": 147,
   "metadata": {
    "collapsed": false
   },
   "outputs": [
    {
     "data": {
      "text/html": [
       "<table class=\"simpletable\">\n",
       "<caption>Generalized Linear Model Regression Results</caption>\n",
       "<tr>\n",
       "  <th>Dep. Variable:</th>  <td>goals_scored_by_team</td> <th>  No. Observations:  </th>  <td>   760</td> \n",
       "</tr>\n",
       "<tr>\n",
       "  <th>Model:</th>                   <td>GLM</td>         <th>  Df Residuals:      </th>  <td>   720</td> \n",
       "</tr>\n",
       "<tr>\n",
       "  <th>Model Family:</th>          <td>Poisson</td>       <th>  Df Model:          </th>  <td>    39</td> \n",
       "</tr>\n",
       "<tr>\n",
       "  <th>Link Function:</th>           <td>log</td>         <th>  Scale:             </th>    <td>1.0</td>  \n",
       "</tr>\n",
       "<tr>\n",
       "  <th>Method:</th>                 <td>IRLS</td>         <th>  Log-Likelihood:    </th> <td> -1114.7</td>\n",
       "</tr>\n",
       "<tr>\n",
       "  <th>Date:</th>             <td>Sat, 16 Jul 2016</td>   <th>  Deviance:          </th> <td>  893.75</td>\n",
       "</tr>\n",
       "<tr>\n",
       "  <th>Time:</th>                 <td>23:33:53</td>       <th>  Pearson chi2:      </th>  <td>  762.</td> \n",
       "</tr>\n",
       "<tr>\n",
       "  <th>No. Iterations:</th>           <td>8</td>          <th>                     </th>     <td> </td>   \n",
       "</tr>\n",
       "</table>\n",
       "<table class=\"simpletable\">\n",
       "<tr>\n",
       "                 <td></td>                    <th>coef</th>     <th>std err</th>      <th>z</th>      <th>P>|z|</th> <th>[95.0% Conf. Int.]</th> \n",
       "</tr>\n",
       "<tr>\n",
       "  <th>Intercept</th>                       <td>    0.3384</td> <td>    0.206</td> <td>    1.639</td> <td> 0.101</td> <td>   -0.066     0.743</td>\n",
       "</tr>\n",
       "<tr>\n",
       "  <th>team[T.Aston Villa]</th>             <td>    0.1494</td> <td>    0.211</td> <td>    0.710</td> <td> 0.478</td> <td>   -0.263     0.562</td>\n",
       "</tr>\n",
       "<tr>\n",
       "  <th>team[T.Bournemouth]</th>             <td>    0.3022</td> <td>    0.204</td> <td>    1.484</td> <td> 0.138</td> <td>   -0.097     0.701</td>\n",
       "</tr>\n",
       "<tr>\n",
       "  <th>team[T.Chelsea]</th>                 <td>    0.3813</td> <td>    0.200</td> <td>    1.905</td> <td> 0.057</td> <td>   -0.011     0.774</td>\n",
       "</tr>\n",
       "<tr>\n",
       "  <th>team[T.Crystal Palace]</th>          <td>   -0.0112</td> <td>    0.218</td> <td>   -0.051</td> <td> 0.959</td> <td>   -0.439     0.417</td>\n",
       "</tr>\n",
       "<tr>\n",
       "  <th>team[T.Everton]</th>                 <td>    0.4277</td> <td>    0.198</td> <td>    2.157</td> <td> 0.031</td> <td>    0.039     0.816</td>\n",
       "</tr>\n",
       "<tr>\n",
       "  <th>team[T.Leicester]</th>               <td>    0.2250</td> <td>    0.207</td> <td>    1.088</td> <td> 0.277</td> <td>   -0.180     0.630</td>\n",
       "</tr>\n",
       "<tr>\n",
       "  <th>team[T.Liverpool]</th>               <td>    0.2694</td> <td>    0.205</td> <td>    1.313</td> <td> 0.189</td> <td>   -0.133     0.672</td>\n",
       "</tr>\n",
       "<tr>\n",
       "  <th>team[T.Man City]</th>                <td>    0.4678</td> <td>    0.197</td> <td>    2.380</td> <td> 0.017</td> <td>    0.083     0.853</td>\n",
       "</tr>\n",
       "<tr>\n",
       "  <th>team[T.Man Utd]</th>                 <td>   -0.1657</td> <td>    0.227</td> <td>   -0.729</td> <td> 0.466</td> <td>   -0.611     0.280</td>\n",
       "</tr>\n",
       "<tr>\n",
       "  <th>team[T.Newcastle]</th>               <td>    0.2823</td> <td>    0.204</td> <td>    1.381</td> <td> 0.167</td> <td>   -0.118     0.683</td>\n",
       "</tr>\n",
       "<tr>\n",
       "  <th>team[T.Norwich]</th>                 <td>    0.2792</td> <td>    0.204</td> <td>    1.366</td> <td> 0.172</td> <td>   -0.121     0.680</td>\n",
       "</tr>\n",
       "<tr>\n",
       "  <th>team[T.Southampton]</th>             <td>    0.3537</td> <td>    0.201</td> <td>    1.762</td> <td> 0.078</td> <td>   -0.040     0.747</td>\n",
       "</tr>\n",
       "<tr>\n",
       "  <th>team[T.Spurs]</th>                   <td>    0.1697</td> <td>    0.210</td> <td>    0.810</td> <td> 0.418</td> <td>   -0.241     0.580</td>\n",
       "</tr>\n",
       "<tr>\n",
       "  <th>team[T.Stoke]</th>                   <td>    0.0820</td> <td>    0.214</td> <td>    0.384</td> <td> 0.701</td> <td>   -0.337     0.501</td>\n",
       "</tr>\n",
       "<tr>\n",
       "  <th>team[T.Sunderland]</th>              <td>    0.0319</td> <td>    0.217</td> <td>    0.147</td> <td> 0.883</td> <td>   -0.394     0.458</td>\n",
       "</tr>\n",
       "<tr>\n",
       "  <th>team[T.Swansea]</th>                 <td>   -0.0540</td> <td>    0.221</td> <td>   -0.244</td> <td> 0.807</td> <td>   -0.488     0.380</td>\n",
       "</tr>\n",
       "<tr>\n",
       "  <th>team[T.Watford]</th>                 <td>   -0.0824</td> <td>    0.223</td> <td>   -0.370</td> <td> 0.711</td> <td>   -0.519     0.354</td>\n",
       "</tr>\n",
       "<tr>\n",
       "  <th>team[T.West Brom]</th>               <td>    0.0678</td> <td>    0.214</td> <td>    0.317</td> <td> 0.751</td> <td>   -0.351     0.487</td>\n",
       "</tr>\n",
       "<tr>\n",
       "  <th>team[T.West Ham]</th>                <td>    0.3547</td> <td>    0.201</td> <td>    1.760</td> <td> 0.078</td> <td>   -0.040     0.750</td>\n",
       "</tr>\n",
       "<tr>\n",
       "  <th>opponent_team[T.Aston Villa]</th>    <td>   -0.0816</td> <td>    0.189</td> <td>   -0.433</td> <td> 0.665</td> <td>   -0.451     0.288</td>\n",
       "</tr>\n",
       "<tr>\n",
       "  <th>opponent_team[T.Bournemouth]</th>    <td>   -0.0549</td> <td>    0.188</td> <td>   -0.293</td> <td> 0.770</td> <td>   -0.423     0.313</td>\n",
       "</tr>\n",
       "<tr>\n",
       "  <th>opponent_team[T.Chelsea]</th>        <td>   -0.1453</td> <td>    0.193</td> <td>   -0.755</td> <td> 0.450</td> <td>   -0.523     0.232</td>\n",
       "</tr>\n",
       "<tr>\n",
       "  <th>opponent_team[T.Crystal Palace]</th> <td>   -0.2068</td> <td>    0.195</td> <td>   -1.063</td> <td> 0.288</td> <td>   -0.588     0.175</td>\n",
       "</tr>\n",
       "<tr>\n",
       "  <th>opponent_team[T.Everton]</th>        <td>   -0.1625</td> <td>    0.194</td> <td>   -0.839</td> <td> 0.401</td> <td>   -0.542     0.217</td>\n",
       "</tr>\n",
       "<tr>\n",
       "  <th>opponent_team[T.Leicester]</th>      <td>   -0.1348</td> <td>    0.191</td> <td>   -0.704</td> <td> 0.481</td> <td>   -0.510     0.240</td>\n",
       "</tr>\n",
       "<tr>\n",
       "  <th>opponent_team[T.Liverpool]</th>      <td>   -0.0037</td> <td>    0.185</td> <td>   -0.020</td> <td> 0.984</td> <td>   -0.367     0.359</td>\n",
       "</tr>\n",
       "<tr>\n",
       "  <th>opponent_team[T.Man City]</th>       <td>   -0.2674</td> <td>    0.199</td> <td>   -1.340</td> <td> 0.180</td> <td>   -0.658     0.124</td>\n",
       "</tr>\n",
       "<tr>\n",
       "  <th>opponent_team[T.Man Utd]</th>        <td>   -0.2129</td> <td>    0.195</td> <td>   -1.094</td> <td> 0.274</td> <td>   -0.594     0.168</td>\n",
       "</tr>\n",
       "<tr>\n",
       "  <th>opponent_team[T.Newcastle]</th>      <td>   -0.0931</td> <td>    0.190</td> <td>   -0.491</td> <td> 0.623</td> <td>   -0.465     0.278</td>\n",
       "</tr>\n",
       "<tr>\n",
       "  <th>opponent_team[T.Norwich]</th>        <td>   -0.1516</td> <td>    0.192</td> <td>   -0.787</td> <td> 0.431</td> <td>   -0.529     0.226</td>\n",
       "</tr>\n",
       "<tr>\n",
       "  <th>opponent_team[T.Southampton]</th>    <td>   -0.3956</td> <td>    0.207</td> <td>   -1.914</td> <td> 0.056</td> <td>   -0.801     0.009</td>\n",
       "</tr>\n",
       "<tr>\n",
       "  <th>opponent_team[T.Spurs]</th>          <td>   -0.0806</td> <td>    0.189</td> <td>   -0.427</td> <td> 0.669</td> <td>   -0.450     0.289</td>\n",
       "</tr>\n",
       "<tr>\n",
       "  <th>opponent_team[T.Stoke]</th>          <td>   -0.1618</td> <td>    0.192</td> <td>   -0.841</td> <td> 0.400</td> <td>   -0.539     0.215</td>\n",
       "</tr>\n",
       "<tr>\n",
       "  <th>opponent_team[T.Sunderland]</th>     <td>    0.1285</td> <td>    0.179</td> <td>    0.719</td> <td> 0.472</td> <td>   -0.222     0.479</td>\n",
       "</tr>\n",
       "<tr>\n",
       "  <th>opponent_team[T.Swansea]</th>        <td>   -0.0908</td> <td>    0.189</td> <td>   -0.482</td> <td> 0.630</td> <td>   -0.460     0.279</td>\n",
       "</tr>\n",
       "<tr>\n",
       "  <th>opponent_team[T.Watford]</th>        <td>   -0.1491</td> <td>    0.191</td> <td>   -0.779</td> <td> 0.436</td> <td>   -0.524     0.226</td>\n",
       "</tr>\n",
       "<tr>\n",
       "  <th>opponent_team[T.West Brom]</th>      <td>   -0.4910</td> <td>    0.212</td> <td>   -2.319</td> <td> 0.020</td> <td>   -0.906    -0.076</td>\n",
       "</tr>\n",
       "<tr>\n",
       "  <th>opponent_team[T.West Ham]</th>       <td>   -0.0337</td> <td>    0.187</td> <td>   -0.180</td> <td> 0.857</td> <td>   -0.400     0.333</td>\n",
       "</tr>\n",
       "<tr>\n",
       "  <th>home_flag</th>                       <td>   -0.2113</td> <td>    0.063</td> <td>   -3.365</td> <td> 0.001</td> <td>   -0.334    -0.088</td>\n",
       "</tr>\n",
       "</table>"
      ],
      "text/plain": [
       "<class 'statsmodels.iolib.summary.Summary'>\n",
       "\"\"\"\n",
       "                  Generalized Linear Model Regression Results                   \n",
       "================================================================================\n",
       "Dep. Variable:     goals_scored_by_team   No. Observations:                  760\n",
       "Model:                              GLM   Df Residuals:                      720\n",
       "Model Family:                   Poisson   Df Model:                           39\n",
       "Link Function:                      log   Scale:                             1.0\n",
       "Method:                            IRLS   Log-Likelihood:                -1114.7\n",
       "Date:                  Sat, 16 Jul 2016   Deviance:                       893.75\n",
       "Time:                          23:33:53   Pearson chi2:                     762.\n",
       "No. Iterations:                       8                                         \n",
       "===================================================================================================\n",
       "                                      coef    std err          z      P>|z|      [95.0% Conf. Int.]\n",
       "---------------------------------------------------------------------------------------------------\n",
       "Intercept                           0.3384      0.206      1.639      0.101        -0.066     0.743\n",
       "team[T.Aston Villa]                 0.1494      0.211      0.710      0.478        -0.263     0.562\n",
       "team[T.Bournemouth]                 0.3022      0.204      1.484      0.138        -0.097     0.701\n",
       "team[T.Chelsea]                     0.3813      0.200      1.905      0.057        -0.011     0.774\n",
       "team[T.Crystal Palace]             -0.0112      0.218     -0.051      0.959        -0.439     0.417\n",
       "team[T.Everton]                     0.4277      0.198      2.157      0.031         0.039     0.816\n",
       "team[T.Leicester]                   0.2250      0.207      1.088      0.277        -0.180     0.630\n",
       "team[T.Liverpool]                   0.2694      0.205      1.313      0.189        -0.133     0.672\n",
       "team[T.Man City]                    0.4678      0.197      2.380      0.017         0.083     0.853\n",
       "team[T.Man Utd]                    -0.1657      0.227     -0.729      0.466        -0.611     0.280\n",
       "team[T.Newcastle]                   0.2823      0.204      1.381      0.167        -0.118     0.683\n",
       "team[T.Norwich]                     0.2792      0.204      1.366      0.172        -0.121     0.680\n",
       "team[T.Southampton]                 0.3537      0.201      1.762      0.078        -0.040     0.747\n",
       "team[T.Spurs]                       0.1697      0.210      0.810      0.418        -0.241     0.580\n",
       "team[T.Stoke]                       0.0820      0.214      0.384      0.701        -0.337     0.501\n",
       "team[T.Sunderland]                  0.0319      0.217      0.147      0.883        -0.394     0.458\n",
       "team[T.Swansea]                    -0.0540      0.221     -0.244      0.807        -0.488     0.380\n",
       "team[T.Watford]                    -0.0824      0.223     -0.370      0.711        -0.519     0.354\n",
       "team[T.West Brom]                   0.0678      0.214      0.317      0.751        -0.351     0.487\n",
       "team[T.West Ham]                    0.3547      0.201      1.760      0.078        -0.040     0.750\n",
       "opponent_team[T.Aston Villa]       -0.0816      0.189     -0.433      0.665        -0.451     0.288\n",
       "opponent_team[T.Bournemouth]       -0.0549      0.188     -0.293      0.770        -0.423     0.313\n",
       "opponent_team[T.Chelsea]           -0.1453      0.193     -0.755      0.450        -0.523     0.232\n",
       "opponent_team[T.Crystal Palace]    -0.2068      0.195     -1.063      0.288        -0.588     0.175\n",
       "opponent_team[T.Everton]           -0.1625      0.194     -0.839      0.401        -0.542     0.217\n",
       "opponent_team[T.Leicester]         -0.1348      0.191     -0.704      0.481        -0.510     0.240\n",
       "opponent_team[T.Liverpool]         -0.0037      0.185     -0.020      0.984        -0.367     0.359\n",
       "opponent_team[T.Man City]          -0.2674      0.199     -1.340      0.180        -0.658     0.124\n",
       "opponent_team[T.Man Utd]           -0.2129      0.195     -1.094      0.274        -0.594     0.168\n",
       "opponent_team[T.Newcastle]         -0.0931      0.190     -0.491      0.623        -0.465     0.278\n",
       "opponent_team[T.Norwich]           -0.1516      0.192     -0.787      0.431        -0.529     0.226\n",
       "opponent_team[T.Southampton]       -0.3956      0.207     -1.914      0.056        -0.801     0.009\n",
       "opponent_team[T.Spurs]             -0.0806      0.189     -0.427      0.669        -0.450     0.289\n",
       "opponent_team[T.Stoke]             -0.1618      0.192     -0.841      0.400        -0.539     0.215\n",
       "opponent_team[T.Sunderland]         0.1285      0.179      0.719      0.472        -0.222     0.479\n",
       "opponent_team[T.Swansea]           -0.0908      0.189     -0.482      0.630        -0.460     0.279\n",
       "opponent_team[T.Watford]           -0.1491      0.191     -0.779      0.436        -0.524     0.226\n",
       "opponent_team[T.West Brom]         -0.4910      0.212     -2.319      0.020        -0.906    -0.076\n",
       "opponent_team[T.West Ham]          -0.0337      0.187     -0.180      0.857        -0.400     0.333\n",
       "home_flag                          -0.2113      0.063     -3.365      0.001        -0.334    -0.088\n",
       "===================================================================================================\n",
       "\"\"\""
      ]
     },
     "execution_count": 147,
     "metadata": {},
     "output_type": "execute_result"
    }
   ],
   "source": [
    "m = smf.glm(formula='goals_scored_by_team ~ home_flag + team + opponent_team', data=df, family=sm.families.Poisson())\n",
    "res = m.fit()\n",
    "\n",
    "res.summary()"
   ]
  },
  {
   "cell_type": "code",
   "execution_count": 89,
   "metadata": {
    "collapsed": false
   },
   "outputs": [
    {
     "data": {
      "text/plain": [
       "-0.28124711488600163"
      ]
     },
     "execution_count": 89,
     "metadata": {},
     "output_type": "execute_result"
    }
   ],
   "source": [
    "home_team = 'Aston Villa'\n",
    "away_team = 'Bournemouth'\n",
    "\n",
    "np.exp(m.predict(-0.263269, 0.701311)) - np.exp(m.predict(0.562123, -0.096996))"
   ]
  },
  {
   "cell_type": "code",
   "execution_count": 141,
   "metadata": {
    "collapsed": false
   },
   "outputs": [],
   "source": [
    "test_list = []\n",
    "for i in xrange(1000):\n",
    "    test_list.append(m.predict(-0.263269, 0.701311, 0))"
   ]
  },
  {
   "cell_type": "code",
   "execution_count": 116,
   "metadata": {
    "collapsed": false,
    "scrolled": true
   },
   "outputs": [
    {
     "data": {
      "text/plain": [
       "0   -0.096996\n",
       "1    0.701311\n",
       "Name: team[T.Bournemouth], dtype: float64"
      ]
     },
     "execution_count": 116,
     "metadata": {},
     "output_type": "execute_result"
    }
   ],
   "source": [
    "coef_df.loc['team[T.Bournemouth]']"
   ]
  },
  {
   "cell_type": "code",
   "execution_count": 90,
   "metadata": {
    "collapsed": true
   },
   "outputs": [],
   "source": [
    "def get_expected_goals(home_team, away_team, coef_df, model):\n",
    "    home_attack_score = np.exp(coef_df.loc['team[T.{0}]'.format(home_team)][0])\n",
    "    home_defence_score = np.exp(coef_df.loc['team[T.{0}]'.format(home_team)][1])\n",
    "    \n",
    "    away_attack_score = np.exp(coef_df.loc['team[T.{0}]'.format(away_team)][0])\n",
    "    away_defence_score = np.exp(coef_df.loc['team[T.{0}]'.format(home_team)][1])\n",
    "    \n",
    "    attack_outcome = model.predict()\n",
    "    \n",
    "    poisson()"
   ]
  },
  {
   "cell_type": "code",
   "execution_count": 112,
   "metadata": {
    "collapsed": false
   },
   "outputs": [
    {
     "data": {
      "text/plain": [
       "0.75484177979045119"
      ]
     },
     "execution_count": 112,
     "metadata": {},
     "output_type": "execute_result"
    }
   ],
   "source": [
    "np.exp(-0.28124711488600163)"
   ]
  },
  {
   "cell_type": "code",
   "execution_count": 126,
   "metadata": {
    "collapsed": false
   },
   "outputs": [
    {
     "data": {
      "text/plain": [
       "(760, 40)"
      ]
     },
     "execution_count": 126,
     "metadata": {},
     "output_type": "execute_result"
    }
   ],
   "source": [
    "m.predict(0.701311).shape"
   ]
  },
  {
   "cell_type": "code",
   "execution_count": 123,
   "metadata": {
    "collapsed": false
   },
   "outputs": [
    {
     "data": {
      "text/plain": [
       "array([1])"
      ]
     },
     "execution_count": 123,
     "metadata": {},
     "output_type": "execute_result"
    }
   ],
   "source": [
    "poisson(np.exp(m.predict(-0.263269, 0.701311))).rvs(1)"
   ]
  },
  {
   "cell_type": "code",
   "execution_count": null,
   "metadata": {
    "collapsed": true
   },
   "outputs": [],
   "source": [
    "poisson(np.exp(m.predict(0.701311)))"
   ]
  }
 ],
 "metadata": {
  "kernelspec": {
   "display_name": "Python 2",
   "language": "python",
   "name": "python2"
  },
  "language_info": {
   "codemirror_mode": {
    "name": "ipython",
    "version": 2
   },
   "file_extension": ".py",
   "mimetype": "text/x-python",
   "name": "python",
   "nbconvert_exporter": "python",
   "pygments_lexer": "ipython2",
   "version": "2.7.11"
  }
 },
 "nbformat": 4,
 "nbformat_minor": 0
}
