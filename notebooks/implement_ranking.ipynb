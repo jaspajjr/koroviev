{
 "cells": [
  {
   "cell_type": "code",
   "execution_count": 1,
   "metadata": {
    "collapsed": false
   },
   "outputs": [],
   "source": [
    "import numpy as np\n",
    "import pandas as pd\n",
    "import matplotlib.pyplot as plt\n",
    "from scipy.stats import binom\n",
    "import os, sys, json\n",
    "sys.path.append('/home/jasper/working/github/')\n",
    "\n",
    "%matplotlib inline"
   ]
  },
  {
   "cell_type": "code",
   "execution_count": 5,
   "metadata": {
    "collapsed": false
   },
   "outputs": [
    {
     "ename": "ImportError",
     "evalue": "No module named koroviev",
     "output_type": "error",
     "traceback": [
      "\u001b[1;31m---------------------------------------------------------------------------\u001b[0m",
      "\u001b[1;31mImportError\u001b[0m                               Traceback (most recent call last)",
      "\u001b[1;32m<ipython-input-5-078f37a407a8>\u001b[0m in \u001b[0;36m<module>\u001b[1;34m()\u001b[0m\n\u001b[1;32m----> 1\u001b[1;33m \u001b[1;32mimport\u001b[0m \u001b[0mkoroviev\u001b[0m\u001b[1;33m\u001b[0m\u001b[0m\n\u001b[0m",
      "\u001b[1;31mImportError\u001b[0m: No module named koroviev"
     ]
    }
   ],
   "source": [
    "import koroviev"
   ]
  },
  {
   "cell_type": "code",
   "execution_count": 4,
   "metadata": {
    "collapsed": false
   },
   "outputs": [
    {
     "data": {
      "text/plain": [
       "['',\n",
       " '/usr/lib/python2.7',\n",
       " '/usr/lib/python2.7/plat-x86_64-linux-gnu',\n",
       " '/usr/lib/python2.7/lib-tk',\n",
       " '/usr/lib/python2.7/lib-old',\n",
       " '/usr/lib/python2.7/lib-dynload',\n",
       " '/usr/local/lib/python2.7/dist-packages',\n",
       " '/usr/lib/python2.7/dist-packages',\n",
       " '/usr/lib/python2.7/dist-packages/PILcompat',\n",
       " '/usr/lib/python2.7/dist-packages/gtk-2.0',\n",
       " '/usr/lib/pymodules/python2.7',\n",
       " '/usr/lib/python2.7/dist-packages/ubuntu-sso-client',\n",
       " '/usr/local/lib/python2.7/dist-packages/IPython/extensions',\n",
       " '/home/jasper/.ipython',\n",
       " '/home/jasper/working/github/']"
      ]
     },
     "execution_count": 4,
     "metadata": {},
     "output_type": "execute_result"
    }
   ],
   "source": [
    "sys.path"
   ]
  },
  {
   "cell_type": "code",
   "execution_count": 3,
   "metadata": {
    "collapsed": false
   },
   "outputs": [
    {
     "ename": "ImportError",
     "evalue": "No module named koroviev",
     "output_type": "error",
     "traceback": [
      "\u001b[1;31m---------------------------------------------------------------------------\u001b[0m",
      "\u001b[1;31mImportError\u001b[0m                               Traceback (most recent call last)",
      "\u001b[1;32m<ipython-input-3-76c89567a38d>\u001b[0m in \u001b[0;36m<module>\u001b[1;34m()\u001b[0m\n\u001b[1;32m----> 1\u001b[1;33m \u001b[1;32mfrom\u001b[0m \u001b[0mkoroviev\u001b[0m \u001b[1;32mimport\u001b[0m \u001b[0mprojections\u001b[0m\u001b[1;33m\u001b[0m\u001b[0m\n\u001b[0m",
      "\u001b[1;31mImportError\u001b[0m: No module named koroviev"
     ]
    }
   ],
   "source": [
    "from koroviev import projections"
   ]
  },
  {
   "cell_type": "code",
   "execution_count": 2,
   "metadata": {
    "collapsed": false
   },
   "outputs": [
    {
     "ename": "ImportError",
     "evalue": "No module named koroviev.koroviev",
     "output_type": "error",
     "traceback": [
      "\u001b[1;31m---------------------------------------------------------------------------\u001b[0m",
      "\u001b[1;31mImportError\u001b[0m                               Traceback (most recent call last)",
      "\u001b[1;32m<ipython-input-2-c5cd9ce50d12>\u001b[0m in \u001b[0;36m<module>\u001b[1;34m()\u001b[0m\n\u001b[1;32m----> 1\u001b[1;33m \u001b[1;32mfrom\u001b[0m \u001b[0mkoroviev\u001b[0m\u001b[1;33m.\u001b[0m\u001b[0mkoroviev\u001b[0m \u001b[1;32mimport\u001b[0m \u001b[0mmassey_ranking\u001b[0m\u001b[1;33m,\u001b[0m \u001b[0mprojections\u001b[0m\u001b[1;33m\u001b[0m\u001b[0m\n\u001b[0m",
      "\u001b[1;31mImportError\u001b[0m: No module named koroviev.koroviev"
     ]
    }
   ],
   "source": [
    "from koroviev.koroviev import massey_ranking, projections"
   ]
  },
  {
   "cell_type": "code",
   "execution_count": 38,
   "metadata": {
    "collapsed": false
   },
   "outputs": [
    {
     "data": {
      "text/html": [
       "<div>\n",
       "<table border=\"1\" class=\"dataframe\">\n",
       "  <thead>\n",
       "    <tr style=\"text-align: right;\">\n",
       "      <th></th>\n",
       "      <th>0</th>\n",
       "      <th>1</th>\n",
       "      <th>2</th>\n",
       "      <th>3</th>\n",
       "      <th>4</th>\n",
       "      <th>5</th>\n",
       "      <th>6</th>\n",
       "      <th>7</th>\n",
       "      <th>8</th>\n",
       "      <th>9</th>\n",
       "      <th>...</th>\n",
       "      <th>91</th>\n",
       "      <th>92</th>\n",
       "      <th>93</th>\n",
       "      <th>94</th>\n",
       "      <th>95</th>\n",
       "      <th>96</th>\n",
       "      <th>97</th>\n",
       "      <th>98</th>\n",
       "      <th>99</th>\n",
       "      <th>100</th>\n",
       "    </tr>\n",
       "  </thead>\n",
       "  <tbody>\n",
       "    <tr>\n",
       "      <th>0</th>\n",
       "      <td>100.0</td>\n",
       "      <td>110.0</td>\n",
       "      <td>121.0</td>\n",
       "      <td>108.9</td>\n",
       "      <td>119.79</td>\n",
       "      <td>107.81</td>\n",
       "      <td>118.59</td>\n",
       "      <td>130.45</td>\n",
       "      <td>117.4</td>\n",
       "      <td>105.66</td>\n",
       "      <td>...</td>\n",
       "      <td>156.12</td>\n",
       "      <td>140.51</td>\n",
       "      <td>126.46</td>\n",
       "      <td>139.11</td>\n",
       "      <td>153.02</td>\n",
       "      <td>168.32</td>\n",
       "      <td>151.49</td>\n",
       "      <td>166.64</td>\n",
       "      <td>149.98</td>\n",
       "      <td>164.98</td>\n",
       "    </tr>\n",
       "  </tbody>\n",
       "</table>\n",
       "<p>1 rows × 101 columns</p>\n",
       "</div>"
      ],
      "text/plain": [
       "     0      1      2      3       4       5       6       7      8       9    \\\n",
       "0  100.0  110.0  121.0  108.9  119.79  107.81  118.59  130.45  117.4  105.66   \n",
       "\n",
       "    ...       91      92      93      94      95      96      97      98   \\\n",
       "0   ...    156.12  140.51  126.46  139.11  153.02  168.32  151.49  166.64   \n",
       "\n",
       "      99      100  \n",
       "0  149.98  164.98  \n",
       "\n",
       "[1 rows x 101 columns]"
      ]
     },
     "execution_count": 38,
     "metadata": {},
     "output_type": "execute_result"
    }
   ],
   "source": [
    "kwargs = {'initial_capital': 100,\n",
    "          'N': 100,\n",
    "          'binomial_model': binom(1, 0.4)\n",
    "         }\n",
    "\n",
    "df = projections.calculate_multiple_iterations_given_criteria(1, kwargs)\n",
    "\n",
    "df"
   ]
  },
  {
   "cell_type": "code",
   "execution_count": 28,
   "metadata": {
    "collapsed": true
   },
   "outputs": [],
   "source": [
    "def convert_results_to_dataframe(M, kwargs):\n",
    "    '''\n",
    "    '''\n",
    "    initial_capital = kwargs['initial_capital']\n",
    "    N = kwargs['N']\n",
    "    binomial_model = kwargs['binomial_model']\n",
    "    iteration_list = []\n",
    "    for iteration in xrange(M):\n",
    "        result_array = calculate_returns_after(initial_capital=initial_capital,\n",
    "            N=N,\n",
    "            binomial_model=binomial_model)\n",
    "        iteration_list.append(result_array)\n",
    "\n",
    "    iteration_array = np.array(iteration_list)\n",
    "    df = pd.DataFrame(iteration_array) #.transpose())\n",
    "    return df"
   ]
  },
  {
   "cell_type": "code",
   "execution_count": 30,
   "metadata": {
    "collapsed": true
   },
   "outputs": [],
   "source": [
    "def calculate_returns_after(initial_capital, N, binomial_model):\n",
    "    '''\n",
    "    '''\n",
    "    capital_progress = [initial_capital]\n",
    "    for game in xrange(N):\n",
    "        capital = capital_progress[-1]\n",
    "        stake = capital * 0.1\n",
    "        success = binomial_model.rvs(1)\n",
    "        if success == 0:\n",
    "            result = round(stake + capital, 2)\n",
    "            capital_progress.append(result)\n",
    "        else:\n",
    "            result = round((-1 * stake) + capital, 2)\n",
    "            capital_progress.append(result)\n",
    "\n",
    "    result_array = np.array(capital_progress)\n",
    "    return result_array"
   ]
  },
  {
   "cell_type": "code",
   "execution_count": 31,
   "metadata": {
    "collapsed": false
   },
   "outputs": [],
   "source": [
    "kwargs = {'initial_capital': 10,\n",
    "          'N': 1000,\n",
    "          'binomial_model': binom(1, 0.4)\n",
    "         }\n",
    "\n",
    "df = convert_results_to_dataframe(10, kwargs)"
   ]
  },
  {
   "cell_type": "code",
   "execution_count": 32,
   "metadata": {
    "collapsed": false
   },
   "outputs": [
    {
     "data": {
      "text/html": [
       "<div>\n",
       "<table border=\"1\" class=\"dataframe\">\n",
       "  <thead>\n",
       "    <tr style=\"text-align: right;\">\n",
       "      <th></th>\n",
       "      <th>0</th>\n",
       "      <th>1</th>\n",
       "      <th>2</th>\n",
       "      <th>3</th>\n",
       "      <th>4</th>\n",
       "      <th>5</th>\n",
       "      <th>6</th>\n",
       "      <th>7</th>\n",
       "      <th>8</th>\n",
       "      <th>9</th>\n",
       "      <th>...</th>\n",
       "      <th>991</th>\n",
       "      <th>992</th>\n",
       "      <th>993</th>\n",
       "      <th>994</th>\n",
       "      <th>995</th>\n",
       "      <th>996</th>\n",
       "      <th>997</th>\n",
       "      <th>998</th>\n",
       "      <th>999</th>\n",
       "      <th>1000</th>\n",
       "    </tr>\n",
       "  </thead>\n",
       "  <tbody>\n",
       "    <tr>\n",
       "      <th>0</th>\n",
       "      <td>10.0</td>\n",
       "      <td>9.0</td>\n",
       "      <td>8.1</td>\n",
       "      <td>7.29</td>\n",
       "      <td>8.02</td>\n",
       "      <td>8.82</td>\n",
       "      <td>9.70</td>\n",
       "      <td>8.73</td>\n",
       "      <td>7.86</td>\n",
       "      <td>7.07</td>\n",
       "      <td>...</td>\n",
       "      <td>2.916873e+06</td>\n",
       "      <td>3.208561e+06</td>\n",
       "      <td>3.529417e+06</td>\n",
       "      <td>3.176475e+06</td>\n",
       "      <td>2.858828e+06</td>\n",
       "      <td>2.572945e+06</td>\n",
       "      <td>2.830239e+06</td>\n",
       "      <td>3.113263e+06</td>\n",
       "      <td>2.801937e+06</td>\n",
       "      <td>3.082131e+06</td>\n",
       "    </tr>\n",
       "    <tr>\n",
       "      <th>1</th>\n",
       "      <td>10.0</td>\n",
       "      <td>11.0</td>\n",
       "      <td>12.1</td>\n",
       "      <td>13.31</td>\n",
       "      <td>11.98</td>\n",
       "      <td>10.78</td>\n",
       "      <td>9.70</td>\n",
       "      <td>8.73</td>\n",
       "      <td>9.60</td>\n",
       "      <td>10.56</td>\n",
       "      <td>...</td>\n",
       "      <td>1.959253e+08</td>\n",
       "      <td>2.155179e+08</td>\n",
       "      <td>2.370697e+08</td>\n",
       "      <td>2.133627e+08</td>\n",
       "      <td>1.920264e+08</td>\n",
       "      <td>2.112291e+08</td>\n",
       "      <td>2.323520e+08</td>\n",
       "      <td>2.555872e+08</td>\n",
       "      <td>2.811459e+08</td>\n",
       "      <td>3.092605e+08</td>\n",
       "    </tr>\n",
       "    <tr>\n",
       "      <th>2</th>\n",
       "      <td>10.0</td>\n",
       "      <td>11.0</td>\n",
       "      <td>12.1</td>\n",
       "      <td>10.89</td>\n",
       "      <td>11.98</td>\n",
       "      <td>13.18</td>\n",
       "      <td>14.50</td>\n",
       "      <td>15.95</td>\n",
       "      <td>14.35</td>\n",
       "      <td>12.91</td>\n",
       "      <td>...</td>\n",
       "      <td>2.153272e+07</td>\n",
       "      <td>1.937945e+07</td>\n",
       "      <td>2.131739e+07</td>\n",
       "      <td>1.918565e+07</td>\n",
       "      <td>2.110422e+07</td>\n",
       "      <td>2.321464e+07</td>\n",
       "      <td>2.089318e+07</td>\n",
       "      <td>1.880386e+07</td>\n",
       "      <td>2.068425e+07</td>\n",
       "      <td>2.275267e+07</td>\n",
       "    </tr>\n",
       "    <tr>\n",
       "      <th>3</th>\n",
       "      <td>10.0</td>\n",
       "      <td>11.0</td>\n",
       "      <td>9.9</td>\n",
       "      <td>8.91</td>\n",
       "      <td>9.80</td>\n",
       "      <td>10.78</td>\n",
       "      <td>9.70</td>\n",
       "      <td>10.67</td>\n",
       "      <td>11.74</td>\n",
       "      <td>10.57</td>\n",
       "      <td>...</td>\n",
       "      <td>9.780228e+08</td>\n",
       "      <td>1.075825e+09</td>\n",
       "      <td>1.183408e+09</td>\n",
       "      <td>1.065067e+09</td>\n",
       "      <td>9.585601e+08</td>\n",
       "      <td>1.054416e+09</td>\n",
       "      <td>1.159858e+09</td>\n",
       "      <td>1.275844e+09</td>\n",
       "      <td>1.148259e+09</td>\n",
       "      <td>1.263085e+09</td>\n",
       "    </tr>\n",
       "    <tr>\n",
       "      <th>4</th>\n",
       "      <td>10.0</td>\n",
       "      <td>11.0</td>\n",
       "      <td>12.1</td>\n",
       "      <td>13.31</td>\n",
       "      <td>14.64</td>\n",
       "      <td>16.10</td>\n",
       "      <td>17.71</td>\n",
       "      <td>15.94</td>\n",
       "      <td>14.35</td>\n",
       "      <td>15.79</td>\n",
       "      <td>...</td>\n",
       "      <td>6.452832e+06</td>\n",
       "      <td>7.098115e+06</td>\n",
       "      <td>7.807927e+06</td>\n",
       "      <td>7.027134e+06</td>\n",
       "      <td>7.729848e+06</td>\n",
       "      <td>8.502832e+06</td>\n",
       "      <td>9.353116e+06</td>\n",
       "      <td>8.417804e+06</td>\n",
       "      <td>9.259585e+06</td>\n",
       "      <td>1.018554e+07</td>\n",
       "    </tr>\n",
       "  </tbody>\n",
       "</table>\n",
       "<p>5 rows × 1001 columns</p>\n",
       "</div>"
      ],
      "text/plain": [
       "   0     1     2      3      4      5      6      7      8      9     \\\n",
       "0  10.0   9.0   8.1   7.29   8.02   8.82   9.70   8.73   7.86   7.07   \n",
       "1  10.0  11.0  12.1  13.31  11.98  10.78   9.70   8.73   9.60  10.56   \n",
       "2  10.0  11.0  12.1  10.89  11.98  13.18  14.50  15.95  14.35  12.91   \n",
       "3  10.0  11.0   9.9   8.91   9.80  10.78   9.70  10.67  11.74  10.57   \n",
       "4  10.0  11.0  12.1  13.31  14.64  16.10  17.71  15.94  14.35  15.79   \n",
       "\n",
       "       ...               991           992           993           994   \\\n",
       "0      ...       2.916873e+06  3.208561e+06  3.529417e+06  3.176475e+06   \n",
       "1      ...       1.959253e+08  2.155179e+08  2.370697e+08  2.133627e+08   \n",
       "2      ...       2.153272e+07  1.937945e+07  2.131739e+07  1.918565e+07   \n",
       "3      ...       9.780228e+08  1.075825e+09  1.183408e+09  1.065067e+09   \n",
       "4      ...       6.452832e+06  7.098115e+06  7.807927e+06  7.027134e+06   \n",
       "\n",
       "           995           996           997           998           999   \\\n",
       "0  2.858828e+06  2.572945e+06  2.830239e+06  3.113263e+06  2.801937e+06   \n",
       "1  1.920264e+08  2.112291e+08  2.323520e+08  2.555872e+08  2.811459e+08   \n",
       "2  2.110422e+07  2.321464e+07  2.089318e+07  1.880386e+07  2.068425e+07   \n",
       "3  9.585601e+08  1.054416e+09  1.159858e+09  1.275844e+09  1.148259e+09   \n",
       "4  7.729848e+06  8.502832e+06  9.353116e+06  8.417804e+06  9.259585e+06   \n",
       "\n",
       "           1000  \n",
       "0  3.082131e+06  \n",
       "1  3.092605e+08  \n",
       "2  2.275267e+07  \n",
       "3  1.263085e+09  \n",
       "4  1.018554e+07  \n",
       "\n",
       "[5 rows x 1001 columns]"
      ]
     },
     "execution_count": 32,
     "metadata": {},
     "output_type": "execute_result"
    }
   ],
   "source": [
    "df.head()"
   ]
  },
  {
   "cell_type": "code",
   "execution_count": 19,
   "metadata": {
    "collapsed": true
   },
   "outputs": [],
   "source": [
    "games = [[0, 3, 3], [1, 4, 21], [1, 5, 5], [2, 0, 13], [2, 3, 13],\n",
    "         [3, 0, 25], [4, 5, 8], [4, 3, 15], [5, 1, 21], [5, 4, 8]]"
   ]
  },
  {
   "cell_type": "code",
   "execution_count": 20,
   "metadata": {
    "collapsed": false
   },
   "outputs": [
    {
     "data": {
      "text/plain": [
       "9.3300000000000018"
      ]
     },
     "execution_count": 20,
     "metadata": {},
     "output_type": "execute_result"
    }
   ],
   "source": [
    "def build_games_matrix(games, num_teams):\n",
    "    \"\"\"\n",
    "    - Build the matrix for the specified number of games, and teams.\n",
    "    \"\"\"\n",
    "\n",
    "    M = np.zeros([len(games), num_teams])\n",
    "    row = 0\n",
    "    for game in games:\n",
    "        M[row, game[0]] = 1\n",
    "        M[row, game[1]] = -1\n",
    "        row += 1\n",
    "    return M\n",
    "\n",
    "def build_outcomes(games):\n",
    "    \"\"\"\n",
    "    This returns a column representing game outcomes\n",
    "    \"\"\"\n",
    "    E = np.zeros([len(games)])\n",
    "    row = 0\n",
    "    for game in games:\n",
    "        E[row] = game[2]\n",
    "        row += 1\n",
    "    return E\n",
    "\n",
    "def solve_lin_eqs(matrix, y_column, kwargs=None):\n",
    "    \"\"\"\n",
    "    - This calculates the solution of the system of linear equations, kwargs\n",
    "    can specify methodology, it must be a dict.\n",
    "    \"\"\"\n",
    "    solution_output = np.linalg.lstsq(matrix, y_column)\n",
    "\n",
    "    return solution_output\n",
    "\n",
    "\n",
    "\n",
    "games_matrix = build_games_matrix(games, 6)\n",
    "y_column = build_outcomes(games)\n",
    "solution_output = solve_lin_eqs(games_matrix, y_column)\n",
    "p_solution = solution_output[0]\n",
    "sum(map(abs, games_matrix.dot(p_solution) - y_column)) / 10"
   ]
  },
  {
   "cell_type": "code",
   "execution_count": 18,
   "metadata": {
    "collapsed": false
   },
   "outputs": [
    {
     "data": {
      "text/plain": [
       "array([-65.37083333,  60.67916667,   8.02916667, -64.57083333,\n",
       "        20.42916667,  40.80416667])"
      ]
     },
     "execution_count": 18,
     "metadata": {},
     "output_type": "execute_result"
    }
   ],
   "source": [
    "p_solution"
   ]
  }
 ],
 "metadata": {
  "kernelspec": {
   "display_name": "Python 2",
   "language": "python",
   "name": "python2"
  },
  "language_info": {
   "codemirror_mode": {
    "name": "ipython",
    "version": 2
   },
   "file_extension": ".py",
   "mimetype": "text/x-python",
   "name": "python",
   "nbconvert_exporter": "python",
   "pygments_lexer": "ipython2",
   "version": "2.7.11"
  }
 },
 "nbformat": 4,
 "nbformat_minor": 0
}
